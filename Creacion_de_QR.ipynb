{
  "nbformat": 4,
  "nbformat_minor": 0,
  "metadata": {
    "colab": {
      "provenance": [],
      "name": "Creacion de QR.ipynb",
      "authorship_tag": "ABX9TyNdrrWAY+obr9dDPv5GnHlZ",
      "include_colab_link": true
    },
    "kernelspec": {
      "name": "python3",
      "display_name": "Python 3"
    },
    "language_info": {
      "name": "python"
    }
  },
  "cells": [
    {
      "cell_type": "markdown",
      "metadata": {
        "id": "view-in-github",
        "colab_type": "text"
      },
      "source": [
        "<a href=\"https://colab.research.google.com/github/gabtns/DataScience/blob/main/Creacion_de_QR.ipynb\" target=\"_parent\"><img src=\"https://colab.research.google.com/assets/colab-badge.svg\" alt=\"Open In Colab\"/></a>"
      ]
    },
    {
      "cell_type": "code",
      "execution_count": null,
      "metadata": {
        "colab": {
          "base_uri": "https://localhost:8080/"
        },
        "id": "6cczdw_eWJCW",
        "outputId": "672f116f-9c7f-4af2-a5f6-fa09e7ea1e05"
      },
      "outputs": [
        {
          "output_type": "stream",
          "name": "stdout",
          "text": [
            "Looking in indexes: https://pypi.org/simple, https://us-python.pkg.dev/colab-wheels/public/simple/\n",
            "Collecting pyqrcode\n",
            "  Downloading PyQRCode-1.2.1.zip (41 kB)\n",
            "\u001b[K     |████████████████████████████████| 41 kB 524 kB/s \n",
            "\u001b[?25hBuilding wheels for collected packages: pyqrcode\n",
            "  Building wheel for pyqrcode (setup.py) ... \u001b[?25l\u001b[?25hdone\n",
            "  Created wheel for pyqrcode: filename=PyQRCode-1.2.1-py3-none-any.whl size=36247 sha256=8ec811a6ec01a39785a2c6f639245f74b7a2d867c95ccbd67bd45f3c534fb53c\n",
            "  Stored in directory: /root/.cache/pip/wheels/aa/14/ad/f09824edf35fdc5fd8acc01b60ff57f858f212a2d5c41dddd2\n",
            "Successfully built pyqrcode\n",
            "Installing collected packages: pyqrcode\n",
            "Successfully installed pyqrcode-1.2.1\n"
          ]
        }
      ],
      "source": [
        "!pip install pyqrcode"
      ]
    },
    {
      "cell_type": "code",
      "source": [
        "#Para poder realizar la creacion del codigo QR se necesitan instalar algunas dependencias las cuales haran posible \n",
        "#este formato. \n",
        "from pyqrcode import QRCode\n",
        "import pyqrcode\n",
        "\n",
        "#URL a transformar\n",
        "url = \"https://www.linkedin.com/in/gabriel-alegre-28b360a9/\"\n",
        "\n",
        "print(\"Ingrese el titulo de su archivo\")\n",
        "Titulo = input()\n",
        "\n",
        "print(\"Ingrese el tamaño de su codigo QR\")\n",
        "dimension= input()\n",
        "#Creamos el modelo por medio del metodo create de las cuales pasamos como parametro la direccion web.\n",
        "#En mi caso, mi CV en el sitio de linkedin\n",
        "guardar = pyqrcode.create(url)\n",
        "#Una vez realizado el QR lo guardo con el formato SVG, la escala del mismo seran determinadas por el usuario.\n",
        "# Y el titulo (denominacion) sera convertido a string para que se pueda leer por el modelo.\n",
        "guardar.svg(str(Titulo),dimension = 6)"
      ],
      "metadata": {
        "id": "wrPKWO63WOdo"
      },
      "execution_count": null,
      "outputs": []
    },
    {
      "cell_type": "code",
      "source": [],
      "metadata": {
        "id": "jNQ661GHWOri"
      },
      "execution_count": null,
      "outputs": []
    },
    {
      "cell_type": "code",
      "source": [],
      "metadata": {
        "id": "luCb316UWOxa"
      },
      "execution_count": null,
      "outputs": []
    }
  ]
}